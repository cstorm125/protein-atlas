{
 "cells": [
  {
   "cell_type": "markdown",
   "metadata": {},
   "source": [
    "# Label Exploration"
   ]
  },
  {
   "cell_type": "markdown",
   "metadata": {},
   "source": [
    "## Imports"
   ]
  },
  {
   "cell_type": "code",
   "execution_count": 1,
   "metadata": {},
   "outputs": [
    {
     "name": "stdout",
     "output_type": "stream",
     "text": [
      "PyTorch version 1.0.0.dev20180929\n",
      "CUDA is False\n",
      "CuDnn is True\n"
     ]
    },
    {
     "data": {
      "text/plain": [
       "device(type='cpu')"
      ]
     },
     "execution_count": 1,
     "metadata": {},
     "output_type": "execute_result"
    }
   ],
   "source": [
    "%reload_ext autoreload\n",
    "%autoreload 2\n",
    "%matplotlib inline\n",
    "\n",
    "#usual stuff\n",
    "from datetime import datetime\n",
    "import random\n",
    "import math\n",
    "from collections import Counter, namedtuple\n",
    "import numpy as np\n",
    "import pandas as pd\n",
    "import matplotlib.pyplot as plt\n",
    "import seaborn as sns\n",
    "import dill as pickle\n",
    "import glob\n",
    "import shutil\n",
    "import warnings\n",
    "warnings.filterwarnings(\"ignore\")\n",
    "\n",
    "#fastai\n",
    "import fastai\n",
    "from fastai import *          # Quick accesss to most common functionality\n",
    "from fastai.vision import *   # Quick accesss to computer vision functionality\n",
    "\n",
    "#paths\n",
    "DATA_PATH = '~/.kaggle/competitions/human-protein-atlas-image-classification/'\n",
    "TRAIN_PATH = f'{DATA_PATH}train/'\n",
    "\n",
    "#constants\n",
    "itol = ['Nucleoplasm', \n",
    "        'Nuclear membrane',   \n",
    "        'Nucleoli',\n",
    "        'Nucleoli fibrillar center',\n",
    "        'Nuclear speckles',   \n",
    "        'Nuclear bodies',   \n",
    "        'Endoplasmic reticulum',\n",
    "        'Golgi apparatus',   \n",
    "        'Peroxisomes',   \n",
    "        'Endosomes',   \n",
    "        'Lysosomes',   \n",
    "        'Intermediate filaments',   \n",
    "        'Actin filaments',   \n",
    "        'Focal adhesion sites',   \n",
    "        'Microtubules',   \n",
    "        'Microtubule ends',   \n",
    "        'Cytokinetic bridge',   \n",
    "        'Mitotic spindle',   \n",
    "        'Microtubule organizing center',   \n",
    "        'Centrosome',   \n",
    "        'Lipid droplets',   \n",
    "        'Plasma membrane',   \n",
    "        'Cell junctions',   \n",
    "        'Mitochondria',   \n",
    "        'Aggresome',   \n",
    "        'Cytosol',   \n",
    "        'Cytoplasmic bodies', \n",
    "        'Rods & rings']\n",
    "\n",
    "#check cuda\n",
    "print(f'PyTorch version {torch.version.__version__}')\n",
    "print(f'CUDA is {torch.cuda.is_available()}')\n",
    "print(f'CuDnn is {torch.backends.cudnn.enabled}')\n",
    "device = torch.device(\"cuda\" if torch.cuda.is_available() else \"cpu\")\n",
    "device"
   ]
  },
  {
   "cell_type": "markdown",
   "metadata": {},
   "source": [
    "## Problem"
   ]
  },
  {
   "cell_type": "markdown",
   "metadata": {},
   "source": [
    "* **Objective** multi-label classification (28 labels)\n",
    "* **Sample size** 31,072 examples (4 images each)\n",
    "* **Image size** 512x512 PNG (full size being a mix of 2048x2048 and 3072x3072 TIFF files)\n",
    "* **Scoring metric** Macro-F1"
   ]
  },
  {
   "cell_type": "markdown",
   "metadata": {},
   "source": [
    "## Possible Challenges"
   ]
  },
  {
   "cell_type": "markdown",
   "metadata": {},
   "source": [
    "* **Loss function** macro-F1 means misclassification of rare labels has disproportional weight to their number of examples. Loss functions that penalize misclassifying \"more difficult\" examples more such as [focal loss](https://arxiv.org/abs/1708.02002).\n",
    "* **Four channels** pretrained models usually have three channels but our data has four. Since the images are vastly different from ImageNet anyways, we might want to try \n",
    "    * modify first layer of pretrained models to take 4-channel input and initialize that layer with random weights\n",
    "    * starting with random weights and four-channel input first\n",
    "    * training one model for each channel and ensemble later"
   ]
  },
  {
   "cell_type": "markdown",
   "metadata": {},
   "source": [
    "## Exploration"
   ]
  },
  {
   "cell_type": "code",
   "execution_count": 2,
   "metadata": {},
   "outputs": [
    {
     "data": {
      "text/html": [
       "<div>\n",
       "<style scoped>\n",
       "    .dataframe tbody tr th:only-of-type {\n",
       "        vertical-align: middle;\n",
       "    }\n",
       "\n",
       "    .dataframe tbody tr th {\n",
       "        vertical-align: top;\n",
       "    }\n",
       "\n",
       "    .dataframe thead th {\n",
       "        text-align: right;\n",
       "    }\n",
       "</style>\n",
       "<table border=\"1\" class=\"dataframe\">\n",
       "  <thead>\n",
       "    <tr style=\"text-align: right;\">\n",
       "      <th></th>\n",
       "      <th>Id</th>\n",
       "      <th>Target</th>\n",
       "    </tr>\n",
       "  </thead>\n",
       "  <tbody>\n",
       "    <tr>\n",
       "      <th>count</th>\n",
       "      <td>31072</td>\n",
       "      <td>31072</td>\n",
       "    </tr>\n",
       "    <tr>\n",
       "      <th>unique</th>\n",
       "      <td>31072</td>\n",
       "      <td>582</td>\n",
       "    </tr>\n",
       "  </tbody>\n",
       "</table>\n",
       "</div>"
      ],
      "text/plain": [
       "           Id Target\n",
       "count   31072  31072\n",
       "unique  31072    582"
      ]
     },
     "execution_count": 2,
     "metadata": {},
     "output_type": "execute_result"
    }
   ],
   "source": [
    "meta = pd.read_csv(f'{DATA_PATH}train.csv')\n",
    "meta.describe()[:2]"
   ]
  },
  {
   "cell_type": "code",
   "execution_count": 3,
   "metadata": {},
   "outputs": [
    {
     "data": {
      "text/html": [
       "<div>\n",
       "<style scoped>\n",
       "    .dataframe tbody tr th:only-of-type {\n",
       "        vertical-align: middle;\n",
       "    }\n",
       "\n",
       "    .dataframe tbody tr th {\n",
       "        vertical-align: top;\n",
       "    }\n",
       "\n",
       "    .dataframe thead th {\n",
       "        text-align: right;\n",
       "    }\n",
       "</style>\n",
       "<table border=\"1\" class=\"dataframe\">\n",
       "  <thead>\n",
       "    <tr style=\"text-align: right;\">\n",
       "      <th></th>\n",
       "      <th>Id</th>\n",
       "      <th>Target</th>\n",
       "    </tr>\n",
       "  </thead>\n",
       "  <tbody>\n",
       "    <tr>\n",
       "      <th>0</th>\n",
       "      <td>00070df0-bbc3-11e8-b2bc-ac1f6b6435d0</td>\n",
       "      <td>16 0</td>\n",
       "    </tr>\n",
       "    <tr>\n",
       "      <th>1</th>\n",
       "      <td>000a6c98-bb9b-11e8-b2b9-ac1f6b6435d0</td>\n",
       "      <td>7 1 2 0</td>\n",
       "    </tr>\n",
       "    <tr>\n",
       "      <th>2</th>\n",
       "      <td>000a9596-bbc4-11e8-b2bc-ac1f6b6435d0</td>\n",
       "      <td>5</td>\n",
       "    </tr>\n",
       "    <tr>\n",
       "      <th>3</th>\n",
       "      <td>000c99ba-bba4-11e8-b2b9-ac1f6b6435d0</td>\n",
       "      <td>1</td>\n",
       "    </tr>\n",
       "    <tr>\n",
       "      <th>4</th>\n",
       "      <td>001838f8-bbca-11e8-b2bc-ac1f6b6435d0</td>\n",
       "      <td>18</td>\n",
       "    </tr>\n",
       "  </tbody>\n",
       "</table>\n",
       "</div>"
      ],
      "text/plain": [
       "                                     Id   Target\n",
       "0  00070df0-bbc3-11e8-b2bc-ac1f6b6435d0     16 0\n",
       "1  000a6c98-bb9b-11e8-b2b9-ac1f6b6435d0  7 1 2 0\n",
       "2  000a9596-bbc4-11e8-b2bc-ac1f6b6435d0        5\n",
       "3  000c99ba-bba4-11e8-b2b9-ac1f6b6435d0        1\n",
       "4  001838f8-bbca-11e8-b2bc-ac1f6b6435d0       18"
      ]
     },
     "execution_count": 3,
     "metadata": {},
     "output_type": "execute_result"
    }
   ],
   "source": [
    "meta.head()"
   ]
  },
  {
   "cell_type": "code",
   "execution_count": 5,
   "metadata": {},
   "outputs": [
    {
     "data": {
      "text/html": [
       "<div>\n",
       "<style scoped>\n",
       "    .dataframe tbody tr th:only-of-type {\n",
       "        vertical-align: middle;\n",
       "    }\n",
       "\n",
       "    .dataframe tbody tr th {\n",
       "        vertical-align: top;\n",
       "    }\n",
       "\n",
       "    .dataframe thead th {\n",
       "        text-align: right;\n",
       "    }\n",
       "</style>\n",
       "<table border=\"1\" class=\"dataframe\">\n",
       "  <thead>\n",
       "    <tr style=\"text-align: right;\">\n",
       "      <th></th>\n",
       "      <th>Id</th>\n",
       "      <th>Target</th>\n",
       "      <th>Nucleoplasm</th>\n",
       "      <th>Nuclear membrane</th>\n",
       "      <th>Nucleoli</th>\n",
       "      <th>Nucleoli fibrillar center</th>\n",
       "      <th>Nuclear speckles</th>\n",
       "      <th>Nuclear bodies</th>\n",
       "      <th>Endoplasmic reticulum</th>\n",
       "      <th>Golgi apparatus</th>\n",
       "      <th>...</th>\n",
       "      <th>Centrosome</th>\n",
       "      <th>Lipid droplets</th>\n",
       "      <th>Plasma membrane</th>\n",
       "      <th>Cell junctions</th>\n",
       "      <th>Mitochondria</th>\n",
       "      <th>Aggresome</th>\n",
       "      <th>Cytosol</th>\n",
       "      <th>Cytoplasmic bodies</th>\n",
       "      <th>Rods &amp; rings</th>\n",
       "      <th>nb_labels</th>\n",
       "    </tr>\n",
       "  </thead>\n",
       "  <tbody>\n",
       "    <tr>\n",
       "      <th>0</th>\n",
       "      <td>00070df0-bbc3-11e8-b2bc-ac1f6b6435d0</td>\n",
       "      <td>16 0</td>\n",
       "      <td>1</td>\n",
       "      <td>0</td>\n",
       "      <td>0</td>\n",
       "      <td>0</td>\n",
       "      <td>0</td>\n",
       "      <td>0</td>\n",
       "      <td>0</td>\n",
       "      <td>0</td>\n",
       "      <td>...</td>\n",
       "      <td>0</td>\n",
       "      <td>0</td>\n",
       "      <td>0</td>\n",
       "      <td>0</td>\n",
       "      <td>0</td>\n",
       "      <td>0</td>\n",
       "      <td>0</td>\n",
       "      <td>0</td>\n",
       "      <td>0</td>\n",
       "      <td>2</td>\n",
       "    </tr>\n",
       "    <tr>\n",
       "      <th>1</th>\n",
       "      <td>000a6c98-bb9b-11e8-b2b9-ac1f6b6435d0</td>\n",
       "      <td>7 1 2 0</td>\n",
       "      <td>1</td>\n",
       "      <td>1</td>\n",
       "      <td>1</td>\n",
       "      <td>0</td>\n",
       "      <td>0</td>\n",
       "      <td>0</td>\n",
       "      <td>0</td>\n",
       "      <td>1</td>\n",
       "      <td>...</td>\n",
       "      <td>0</td>\n",
       "      <td>0</td>\n",
       "      <td>0</td>\n",
       "      <td>0</td>\n",
       "      <td>0</td>\n",
       "      <td>0</td>\n",
       "      <td>0</td>\n",
       "      <td>0</td>\n",
       "      <td>0</td>\n",
       "      <td>4</td>\n",
       "    </tr>\n",
       "    <tr>\n",
       "      <th>2</th>\n",
       "      <td>000a9596-bbc4-11e8-b2bc-ac1f6b6435d0</td>\n",
       "      <td>5</td>\n",
       "      <td>0</td>\n",
       "      <td>0</td>\n",
       "      <td>0</td>\n",
       "      <td>0</td>\n",
       "      <td>0</td>\n",
       "      <td>1</td>\n",
       "      <td>0</td>\n",
       "      <td>0</td>\n",
       "      <td>...</td>\n",
       "      <td>0</td>\n",
       "      <td>0</td>\n",
       "      <td>0</td>\n",
       "      <td>0</td>\n",
       "      <td>0</td>\n",
       "      <td>0</td>\n",
       "      <td>0</td>\n",
       "      <td>0</td>\n",
       "      <td>0</td>\n",
       "      <td>1</td>\n",
       "    </tr>\n",
       "    <tr>\n",
       "      <th>3</th>\n",
       "      <td>000c99ba-bba4-11e8-b2b9-ac1f6b6435d0</td>\n",
       "      <td>1</td>\n",
       "      <td>0</td>\n",
       "      <td>1</td>\n",
       "      <td>0</td>\n",
       "      <td>0</td>\n",
       "      <td>0</td>\n",
       "      <td>0</td>\n",
       "      <td>0</td>\n",
       "      <td>0</td>\n",
       "      <td>...</td>\n",
       "      <td>0</td>\n",
       "      <td>0</td>\n",
       "      <td>0</td>\n",
       "      <td>0</td>\n",
       "      <td>0</td>\n",
       "      <td>0</td>\n",
       "      <td>0</td>\n",
       "      <td>0</td>\n",
       "      <td>0</td>\n",
       "      <td>1</td>\n",
       "    </tr>\n",
       "    <tr>\n",
       "      <th>4</th>\n",
       "      <td>001838f8-bbca-11e8-b2bc-ac1f6b6435d0</td>\n",
       "      <td>18</td>\n",
       "      <td>0</td>\n",
       "      <td>0</td>\n",
       "      <td>0</td>\n",
       "      <td>0</td>\n",
       "      <td>0</td>\n",
       "      <td>0</td>\n",
       "      <td>0</td>\n",
       "      <td>0</td>\n",
       "      <td>...</td>\n",
       "      <td>0</td>\n",
       "      <td>0</td>\n",
       "      <td>0</td>\n",
       "      <td>0</td>\n",
       "      <td>0</td>\n",
       "      <td>0</td>\n",
       "      <td>0</td>\n",
       "      <td>0</td>\n",
       "      <td>0</td>\n",
       "      <td>1</td>\n",
       "    </tr>\n",
       "  </tbody>\n",
       "</table>\n",
       "<p>5 rows × 31 columns</p>\n",
       "</div>"
      ],
      "text/plain": [
       "                                     Id   Target  Nucleoplasm  \\\n",
       "0  00070df0-bbc3-11e8-b2bc-ac1f6b6435d0     16 0            1   \n",
       "1  000a6c98-bb9b-11e8-b2b9-ac1f6b6435d0  7 1 2 0            1   \n",
       "2  000a9596-bbc4-11e8-b2bc-ac1f6b6435d0        5            0   \n",
       "3  000c99ba-bba4-11e8-b2b9-ac1f6b6435d0        1            0   \n",
       "4  001838f8-bbca-11e8-b2bc-ac1f6b6435d0       18            0   \n",
       "\n",
       "   Nuclear membrane  Nucleoli  Nucleoli fibrillar center  Nuclear speckles  \\\n",
       "0                 0         0                          0                 0   \n",
       "1                 1         1                          0                 0   \n",
       "2                 0         0                          0                 0   \n",
       "3                 1         0                          0                 0   \n",
       "4                 0         0                          0                 0   \n",
       "\n",
       "   Nuclear bodies  Endoplasmic reticulum  Golgi apparatus    ...      \\\n",
       "0               0                      0                0    ...       \n",
       "1               0                      0                1    ...       \n",
       "2               1                      0                0    ...       \n",
       "3               0                      0                0    ...       \n",
       "4               0                      0                0    ...       \n",
       "\n",
       "   Centrosome  Lipid droplets  Plasma membrane  Cell junctions  Mitochondria  \\\n",
       "0           0               0                0               0             0   \n",
       "1           0               0                0               0             0   \n",
       "2           0               0                0               0             0   \n",
       "3           0               0                0               0             0   \n",
       "4           0               0                0               0             0   \n",
       "\n",
       "   Aggresome  Cytosol  Cytoplasmic bodies  Rods & rings  nb_labels  \n",
       "0          0        0                   0             0          2  \n",
       "1          0        0                   0             0          4  \n",
       "2          0        0                   0             0          1  \n",
       "3          0        0                   0             0          1  \n",
       "4          0        0                   0             0          1  \n",
       "\n",
       "[5 rows x 31 columns]"
      ]
     },
     "execution_count": 5,
     "metadata": {},
     "output_type": "execute_result"
    }
   ],
   "source": [
    "#initialize ohe\n",
    "for col_name in itol:\n",
    "    meta[col_name] = 0\n",
    "\n",
    "#insert lab\n",
    "def insert_lab(row):\n",
    "    target_list = row['Target'].split()\n",
    "    for i in target_list:\n",
    "        col_name = itol[int(i)]\n",
    "        row.loc[col_name] = 1\n",
    "    return(row)\n",
    "\n",
    "meta = meta.apply(insert_lab, axis=1)\n",
    "meta['nb_labels'] = meta.iloc[:,2:].sum(axis=1)\n",
    "meta.head()"
   ]
  },
  {
   "cell_type": "markdown",
   "metadata": {},
   "source": [
    "### Number of Labels per Sample"
   ]
  },
  {
   "cell_type": "code",
   "execution_count": 35,
   "metadata": {},
   "outputs": [],
   "source": [
    "nb_labels_df = meta.loc[:,['nb_labels','Id']].groupby('nb_labels').count().reset_index()\n",
    "nb_labels_df['per_labels'] = nb_labels_df['Id'] / sum(nb_labels_df.Id)"
   ]
  },
  {
   "cell_type": "code",
   "execution_count": 39,
   "metadata": {},
   "outputs": [
    {
     "data": {
      "text/plain": [
       "<matplotlib.axes._subplots.AxesSubplot at 0x7f53dbdec908>"
      ]
     },
     "execution_count": 39,
     "metadata": {},
     "output_type": "execute_result"
    },
    {
     "data": {
      "image/png": "[encoded data removed]",
      "text/plain": [
       "<Figure size 432x288 with 1 Axes>"
      ]
     },
     "metadata": {},
     "output_type": "display_data"
    }
   ],
   "source": [
    "sns.barplot(x='nb_labels',y='per_labels',data=nb_labels_df)"
   ]
  },
  {
   "cell_type": "markdown",
   "metadata": {},
   "source": [
    "### Label Distribution"
   ]
  },
  {
   "cell_type": "code",
   "execution_count": 63,
   "metadata": {},
   "outputs": [],
   "source": [
    "labels_df = meta.iloc[:,2:-1].sum(axis=0).reset_index()\n",
    "labels_df.columns = ['labels','nb_ids']\n",
    "labels_df['per_ids'] = labels_df.nb_ids / sum(labels_df.nb_ids)\n",
    "labels_df.sort_values('per_ids',ascending=False,inplace=True)"
   ]
  },
  {
   "cell_type": "code",
   "execution_count": 64,
   "metadata": {},
   "outputs": [
    {
     "data": {
      "text/html": [
       "<div>\n",
       "<style scoped>\n",
       "    .dataframe tbody tr th:only-of-type {\n",
       "        vertical-align: middle;\n",
       "    }\n",
       "\n",
       "    .dataframe tbody tr th {\n",
       "        vertical-align: top;\n",
       "    }\n",
       "\n",
       "    .dataframe thead th {\n",
       "        text-align: right;\n",
       "    }\n",
       "</style>\n",
       "<table border=\"1\" class=\"dataframe\">\n",
       "  <thead>\n",
       "    <tr style=\"text-align: right;\">\n",
       "      <th></th>\n",
       "      <th>labels</th>\n",
       "      <th>nb_ids</th>\n",
       "      <th>per_ids</th>\n",
       "    </tr>\n",
       "  </thead>\n",
       "  <tbody>\n",
       "    <tr>\n",
       "      <th>0</th>\n",
       "      <td>Nucleoplasm</td>\n",
       "      <td>12885</td>\n",
       "      <td>0.253732</td>\n",
       "    </tr>\n",
       "    <tr>\n",
       "      <th>25</th>\n",
       "      <td>Cytosol</td>\n",
       "      <td>8228</td>\n",
       "      <td>0.162026</td>\n",
       "    </tr>\n",
       "    <tr>\n",
       "      <th>21</th>\n",
       "      <td>Plasma membrane</td>\n",
       "      <td>3777</td>\n",
       "      <td>0.074377</td>\n",
       "    </tr>\n",
       "    <tr>\n",
       "      <th>2</th>\n",
       "      <td>Nucleoli</td>\n",
       "      <td>3621</td>\n",
       "      <td>0.071305</td>\n",
       "    </tr>\n",
       "    <tr>\n",
       "      <th>23</th>\n",
       "      <td>Mitochondria</td>\n",
       "      <td>2965</td>\n",
       "      <td>0.058387</td>\n",
       "    </tr>\n",
       "  </tbody>\n",
       "</table>\n",
       "</div>"
      ],
      "text/plain": [
       "             labels  nb_ids   per_ids\n",
       "0       Nucleoplasm   12885  0.253732\n",
       "25          Cytosol    8228  0.162026\n",
       "21  Plasma membrane    3777  0.074377\n",
       "2          Nucleoli    3621  0.071305\n",
       "23     Mitochondria    2965  0.058387"
      ]
     },
     "execution_count": 64,
     "metadata": {},
     "output_type": "execute_result"
    }
   ],
   "source": [
    "labels_df.head()"
   ]
  },
  {
   "cell_type": "code",
   "execution_count": 70,
   "metadata": {},
   "outputs": [
    {
     "data": {
      "text/plain": [
       "<matplotlib.axes._subplots.AxesSubplot at 0x7f53db640400>"
      ]
     },
     "execution_count": 70,
     "metadata": {},
     "output_type": "execute_result"
    },
    {
     "data": {
      "image/png": "[encoded data removed]",
      "text/plain": [
       "<Figure size 720x360 with 1 Axes>"
      ]
     },
     "metadata": {},
     "output_type": "display_data"
    }
   ],
   "source": [
    "plt.figure(figsize=(10,5))\n",
    "sns.barplot(x='per_ids',y='labels',data=labels_df)"
   ]
  },
  {
   "cell_type": "markdown",
   "metadata": {},
   "source": [
    "### Label Correlation"
   ]
  },
  {
   "cell_type": "code",
   "execution_count": 78,
   "metadata": {},
   "outputs": [],
   "source": [
    "corr_df = meta[meta.nb_labels>1].iloc[:,2:-1]"
   ]
  },
  {
   "cell_type": "code",
   "execution_count": 86,
   "metadata": {},
   "outputs": [
    {
     "data": {
      "text/plain": [
       "<matplotlib.axes._subplots.AxesSubplot at 0x7f53daee4940>"
      ]
     },
     "execution_count": 86,
     "metadata": {},
     "output_type": "execute_result"
    },
    {
     "data": {
      "image/png": "[encoded data removed]",
      "text/plain": [
       "<Figure size 720x720 with 2 Axes>"
      ]
     },
     "metadata": {},
     "output_type": "display_data"
    }
   ],
   "source": [
    "plt.figure(figsize=(10,10))\n",
    "sns.heatmap(cor_df.corr(), cmap=\"RdYlBu\", vmin=-1, vmax=1)"
   ]
  },
  {
   "cell_type": "markdown",
   "metadata": {},
   "source": [
    "## Sample Images"
   ]
  },
  {
   "cell_type": "code",
   "execution_count": null,
   "metadata": {},
   "outputs": [],
   "source": []
  }
 ],
 "metadata": {
  "kernelspec": {
   "display_name": "Python 3",
   "language": "python",
   "name": "python3"
  },
  "language_info": {
   "codemirror_mode": {
    "name": "ipython",
    "version": 3
   },
   "file_extension": ".py",
   "mimetype": "text/x-python",
   "name": "python",
   "nbconvert_exporter": "python",
   "pygments_lexer": "ipython3",
   "version": "3.6.6"
  }
 },
 "nbformat": 4,
 "nbformat_minor": 2
}
